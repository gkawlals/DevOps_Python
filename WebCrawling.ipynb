{
 "cells": [
  {
   "cell_type": "code",
   "execution_count": 12,
   "id": "7d0a4fd0",
   "metadata": {},
   "outputs": [],
   "source": [
    "import requests\n",
    "from bs4 import BeautifulSoup as bs"
   ]
  },
  {
   "cell_type": "code",
   "execution_count": 13,
   "id": "63f48ecb",
   "metadata": {},
   "outputs": [],
   "source": [
    "resp = requests.get('https://daum.net')"
   ]
  },
  {
   "cell_type": "code",
   "execution_count": 14,
   "id": "3a580c95",
   "metadata": {},
   "outputs": [],
   "source": [
    "html = resp.text"
   ]
  },
  {
   "cell_type": "code",
   "execution_count": 15,
   "id": "bc64d035",
   "metadata": {},
   "outputs": [],
   "source": [
    "soup = bs(html,'html.parser')"
   ]
  },
  {
   "cell_type": "code",
   "execution_count": 17,
   "id": "e18759b4",
   "metadata": {},
   "outputs": [
    {
     "data": {
      "text/plain": [
       "18"
      ]
     },
     "execution_count": 17,
     "metadata": {},
     "output_type": "execute_result"
    }
   ],
   "source": [
    "len(soup.select('ul'))"
   ]
  },
  {
   "cell_type": "code",
   "execution_count": 19,
   "id": "dd25d7e7",
   "metadata": {},
   "outputs": [
    {
     "data": {
      "text/plain": [
       "167"
      ]
     },
     "execution_count": 19,
     "metadata": {},
     "output_type": "execute_result"
    }
   ],
   "source": [
    "len(soup.select('li'))"
   ]
  },
  {
   "cell_type": "code",
   "execution_count": 26,
   "id": "670cac3b",
   "metadata": {},
   "outputs": [],
   "source": [
    "result = soup.select('.list_favorsch a')"
   ]
  },
  {
   "cell_type": "code",
   "execution_count": 32,
   "id": "01ca3d53",
   "metadata": {},
   "outputs": [
    {
     "name": "stdout",
     "output_type": "stream",
     "text": [
      "코로나19 발생현황 아누팜 시구 회사이전 전소민 스틸 블랙박스 위드코로나 이지훈 해명 방부목데크가격 범죄도시2 포스터 전기보일러 유세윤 MC확정 아바 새앨범 원심분리기 아이유 카이 화보 병풍커버 "
     ]
    }
   ],
   "source": [
    "\n",
    "for item in result:\n",
    "    print(item.text, end=' ')\n",
    "    \n"
   ]
  },
  {
   "cell_type": "code",
   "execution_count": null,
   "id": "47f970d3",
   "metadata": {},
   "outputs": [],
   "source": []
  }
 ],
 "metadata": {
  "kernelspec": {
   "display_name": "Python 3 (ipykernel)",
   "language": "python",
   "name": "python3"
  },
  "language_info": {
   "codemirror_mode": {
    "name": "ipython",
    "version": 3
   },
   "file_extension": ".py",
   "mimetype": "text/x-python",
   "name": "python",
   "nbconvert_exporter": "python",
   "pygments_lexer": "ipython3",
   "version": "3.9.6"
  }
 },
 "nbformat": 4,
 "nbformat_minor": 5
}
