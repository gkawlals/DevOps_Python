{
 "cells": [
  {
   "cell_type": "markdown",
   "metadata": {},
   "source": [
    "### 문제1"
   ]
  },
  {
   "cell_type": "markdown",
   "metadata": {},
   "source": [
    "성적이 90점이상이면 A, 80점 이상이면 B, 70점 이상이면 C, 60점 이상이면 D, 그외에는 F를 반환하는 함수 get_grade(score)를 작성하고 테스트하라.\n",
    "\n",
    "[실행 결과]  \n",
    "정수를 입력하세요: 83  \n",
    "성적은 B 입니다.\n"
   ]
  },
  {
   "cell_type": "code",
   "execution_count": 4,
   "metadata": {},
   "outputs": [
    {
     "name": "stdout",
     "output_type": "stream",
     "text": [
      "40\n",
      "F\n"
     ]
    }
   ],
   "source": [
    "def get_grade(score):\n",
    "    if score >= 90:\n",
    "        grade = 'A'\n",
    "    elif score >= 80:\n",
    "        grade = 'B'\n",
    "    elif score >= 70:\n",
    "        grade = 'C'\n",
    "    elif score >= 60:\n",
    "        grade = 'D'\n",
    "    else : \n",
    "        grade = 'F'\n",
    "    return grade\n",
    "\n",
    "score = int(input())\n",
    "print(get_grade(score))"
   ]
  },
  {
   "cell_type": "markdown",
   "metadata": {},
   "source": [
    "### 문제2"
   ]
  },
  {
   "cell_type": "markdown",
   "metadata": {},
   "source": [
    "다음과 같은 프로그램의 출력을 예상해보자. \n",
    "\n",
    "```python\n",
    "def decrement(value):\n",
    "\tvalue -= 1\n",
    "\n",
    "n = 1\n",
    "decrement(n)\n",
    "print(n)\n",
    "```"
   ]
  },
  {
   "cell_type": "code",
   "execution_count": 5,
   "metadata": {},
   "outputs": [
    {
     "name": "stdout",
     "output_type": "stream",
     "text": [
      "1\n"
     ]
    }
   ],
   "source": [
    "1"
   ]
  },
  {
   "cell_type": "markdown",
   "metadata": {},
   "source": [
    "### 문제3"
   ]
  },
  {
   "cell_type": "markdown",
   "metadata": {},
   "source": [
    "사용자로부터 두 개의 정수를 입력받아서 최대 공약수를 찾는 함수를 작성해보자. 가강 간단한 알고리즘을 생각하자.  \n",
    "\n",
    "[실행 결과]  \n",
    "첫번째 정수 : 36  \n",
    "두번째 정수 : 12  \n",
    "12"
   ]
  },
  {
   "cell_type": "code",
   "execution_count": 15,
   "metadata": {
    "scrolled": true
   },
   "outputs": [
    {
     "name": "stdout",
     "output_type": "stream",
     "text": [
      "첫번째 정수 : 36\n",
      "두번째 정수 : 12\n",
      "12\n"
     ]
    }
   ],
   "source": [
    "def al(x, y):\n",
    "    m = min(x,y)\n",
    "    for i in range(1, m+1):\n",
    "        if (x % i) == 0 and (y % i) == 0:\n",
    "            g = i\n",
    "    return g\n",
    "        \n",
    "x = int(input('첫번째 정수 : '))\n",
    "y = int(input('두번째 정수 : '))\n",
    "\n",
    "print(al(x,y))"
   ]
  },
  {
   "cell_type": "markdown",
   "metadata": {},
   "source": [
    "### 문제4"
   ]
  },
  {
   "cell_type": "markdown",
   "metadata": {},
   "source": [
    "주어진 정수가 소수인지를 검사하는 함수 check_prime(n)를 작성하고 이 함수를 호출하여서 2부터 100 사이의 소수를 출력하여 보자.   \n",
    "\n",
    "[실행 명령문]  \n",
    "```python\n",
    "for i in range(2, 101):\n",
    "    check_prime(i)\n",
    "```\n",
    "\n",
    "[실행 결과]  \n",
    "2 3 5 7 11 13 17 19 23 29 31 37 41 43 47 53 59 61 67 71 73 79 83 89 97 "
   ]
  },
  {
   "cell_type": "code",
   "execution_count": 76,
   "metadata": {
    "scrolled": false
   },
   "outputs": [
    {
     "name": "stdout",
     "output_type": "stream",
     "text": [
      "2 3 5 7 11 13 17 19 23 29 31 37 41 43 47 53 59 61 67 71 73 79 83 89 97 "
     ]
    }
   ],
   "source": [
    "def check_prime(i):\n",
    "    check = 0\n",
    "    for j in range(2, i+1):\n",
    "        if i % j == 0 :\n",
    "            check += 1 \n",
    "    if check == 1 :\n",
    "        print(i, end=\" \")\n",
    "\n",
    "for i in range(2, 101):\n",
    "    check_prime(i)\n",
    "    \n",
    "    "
   ]
  },
  {
   "cell_type": "markdown",
   "metadata": {},
   "source": [
    "### 문제5"
   ]
  },
  {
   "cell_type": "markdown",
   "metadata": {},
   "source": [
    "사용자가 입력한 10진수를 2진수 문자열로 변환하는 함수 deci2bin(n)을 작성하고 테스트하라. \n",
    "\n",
    "[실행 결과]  \n",
    "10진수 : 32  \n",
    "100000"
   ]
  },
  {
   "cell_type": "code",
   "execution_count": 115,
   "metadata": {},
   "outputs": [
    {
     "name": "stdout",
     "output_type": "stream",
     "text": [
      "10진수 : 32\n",
      "00100000\n"
     ]
    }
   ],
   "source": [
    "def deci2bin(n):\n",
    "    n = bin(n)\n",
    "    return n\n",
    "n = int(input('10진수 : '))\n",
    "print(deci2bin(n).replace('b','0'))"
   ]
  },
  {
   "cell_type": "markdown",
   "metadata": {},
   "source": [
    "### 문제6"
   ]
  },
  {
   "cell_type": "markdown",
   "metadata": {},
   "source": [
    "다음과 같은 코드에서 오류가 발생하는 이유는?  \n",
    "\n",
    "```python\n",
    "global_var = 0\n",
    "def sub():\n",
    "    local_var = 1\n",
    "    print(global_var)\n",
    "    print(local_var)\n",
    "sub()\n",
    "print(global_var)\n",
    "print(local_var)\n",
    "\n",
    "```"
   ]
  },
  {
   "cell_type": "code",
   "execution_count": null,
   "metadata": {},
   "outputs": [],
   "source": [
    "마지막 Local_var의 대한 변수 지정이 되지 않아서입니다. "
   ]
  },
  {
   "cell_type": "markdown",
   "metadata": {},
   "source": [
    "### 문제7"
   ]
  },
  {
   "cell_type": "markdown",
   "metadata": {},
   "source": [
    "원의 면적을 계산하는 함수 calc_area(radius)을 정의하고 테스트한다. 만약 원의 반지름이 주어지지 않았으면 5.0으로 간주한다. 함수의 ”기본 인수“를 사용하라. (PI = 3.141692)  \n",
    "\n",
    "[실행 명령문]  \n",
    "calc_area()  \n",
    "calc_area(4.0)  \n",
    "\n",
    "[실행 결과]  \n",
    "78.5423  \n",
    "50.267072\n"
   ]
  },
  {
   "cell_type": "code",
   "execution_count": 87,
   "metadata": {
    "scrolled": true
   },
   "outputs": [
    {
     "name": "stdout",
     "output_type": "stream",
     "text": [
      "78.5423\n",
      "50.267072\n"
     ]
    }
   ],
   "source": [
    "def calc_area(radius=5.0):\n",
    "    fie = 3.141692\n",
    "    r = radius * radius\n",
    "    return r * fie\n",
    "    \n",
    "print(calc_area())\n",
    "print(calc_area(4.0))\n",
    "        "
   ]
  },
  {
   "cell_type": "markdown",
   "metadata": {},
   "source": [
    "### 문제8"
   ]
  },
  {
   "cell_type": "markdown",
   "metadata": {},
   "source": [
    "두 개의 수를 받아서 오름차순으로 반환하는 함수 getSorted(x, y)를 작성하고 반환한다. 함수가 2개의 값을 반환하려면 다음과 같이 한다.    \n",
    "  \n",
    "[실행 명령문]    \n",
    "a, b = getSorted(30, 20)    \n",
    "\n",
    "[실행 결과]    \n",
    "첫번째 정수 :  30  \n",
    "두번째 정수 : 20  \n",
    "(20, 30)"
   ]
  },
  {
   "cell_type": "code",
   "execution_count": 83,
   "metadata": {},
   "outputs": [
    {
     "name": "stdout",
     "output_type": "stream",
     "text": [
      "첫번째 정수 :30\n",
      "첫번째 정수 :20\n",
      "20 30\n"
     ]
    }
   ],
   "source": [
    "def getSorted(x, y):\n",
    "    mini = min(x,y)\n",
    "    xim = max(x,y)\n",
    "    print(mini, xim)\n",
    "x = int(input('첫번째 정수 :'))\n",
    "y = int(input('첫번째 정수 :'))\n",
    "getSorted(x,y)"
   ]
  },
  {
   "cell_type": "markdown",
   "metadata": {},
   "source": [
    "### 문제9"
   ]
  },
  {
   "cell_type": "markdown",
   "metadata": {},
   "source": [
    "다음의 코드가 실행되었을때 출력되는 result값은 무엇인가? \n",
    "```python\n",
    "def f(x):\n",
    "    return x * x + x\n",
    "\n",
    "result = f(2)\n",
    "print(result)\n",
    "```"
   ]
  },
  {
   "cell_type": "code",
   "execution_count": null,
   "metadata": {},
   "outputs": [],
   "source": [
    "6"
   ]
  },
  {
   "cell_type": "markdown",
   "metadata": {},
   "source": [
    "### 문제10"
   ]
  },
  {
   "cell_type": "markdown",
   "metadata": {},
   "source": [
    "사용자가 low부터 high까지의 정수를 입력하도록 강제하는 함수 getRange(msg, low, high)을 작성하여 보자.  \n",
    "\n",
    "[실행 명령문]  \n",
    "msg = \"시간을 입력하시오(0에서 23까지 가능)\"  \n",
    "value = getRange(msg, 0, 23)  \n",
    "print(\"OK\")  \n",
    "\n",
    "[실행 결과]  \n",
    "시간을 입력하시오(0에서 23까지 가능)27  \n",
    "시간을 입력하시오(0에서 23까지 가능)26  \n",
    "시간을 입력하시오(0에서 23까지 가능)12  \n",
    "OK  "
   ]
  },
  {
   "cell_type": "code",
   "execution_count": 98,
   "metadata": {},
   "outputs": [
    {
     "name": "stdout",
     "output_type": "stream",
     "text": [
      "시간을 입력하시오(0에서 23까지 가능)45\n",
      "시간을 입력하시오(0에서 23까지 가능)467\n",
      "시간을 입력하시오(0에서 23까지 가능)45\n",
      "시간을 입력하시오(0에서 23까지 가능)4363\n",
      "시간을 입력하시오(0에서 23까지 가능)34634745345\n",
      "시간을 입력하시오(0에서 23까지 가능)12\n",
      "OK\n"
     ]
    }
   ],
   "source": [
    "def getRange(msg='시간을 입력하시오(0에서 23까지 가능)', low=0, high=23):\n",
    "    \n",
    "    m = int(input(msg))\n",
    "    \n",
    "    if m > high or m < low :\n",
    "        getRange()\n",
    "    else :\n",
    "        print('OK')\n",
    "    \n",
    "getRange()"
   ]
  },
  {
   "cell_type": "markdown",
   "metadata": {},
   "source": [
    "### 문제11"
   ]
  },
  {
   "cell_type": "markdown",
   "metadata": {},
   "source": [
    "화씨 온도를 섭씨 온도로 변환하는 함수 f2C(temp)를 작성하고 테스트한다. 섭씨 온도를 화씨 온도로 변환하려면 다음과 같은 공식을 사용한다. \n",
    "```python\n",
    "ctemp = (5.0/9.0)*(temp –32)\n",
    "```\n",
    "\n",
    "[실행 명령문]     \n",
    "f2C(81)   \n",
    "f2C(100)  \n",
    "\n",
    "[실행 결과]  \n",
    "27.222222222222225  \n",
    "37.77777777777778"
   ]
  },
  {
   "cell_type": "code",
   "execution_count": 106,
   "metadata": {},
   "outputs": [
    {
     "name": "stdout",
     "output_type": "stream",
     "text": [
      "27.222222222222225\n",
      "37.77777777777778\n"
     ]
    }
   ],
   "source": [
    "def f2C(temp):\n",
    "    ctemp = (5.0/9.0)*(temp - 32)\n",
    "    return ctemp\n",
    "print(f2C(81))\n",
    "print(f2C(100))"
   ]
  },
  {
   "cell_type": "markdown",
   "metadata": {},
   "source": [
    "### 문제12"
   ]
  },
  {
   "cell_type": "markdown",
   "metadata": {},
   "source": [
    "count_up() 함수를 작성한다. count_up()은 2개의 정수를 받는다. 2개 정수 사이에 있는 모든 정수를 화면에 출력한다. 다음의 실행 예를 참조하라. \n",
    "\n",
    "[실행 명령문]  \n",
    "count_up(1,5)  \n",
    "  \n",
    "[실행 결과]  \n",
    "2  \n",
    "3  \n",
    "4  "
   ]
  },
  {
   "cell_type": "code",
   "execution_count": 108,
   "metadata": {},
   "outputs": [
    {
     "name": "stdout",
     "output_type": "stream",
     "text": [
      "2\n",
      "3\n",
      "4\n"
     ]
    }
   ],
   "source": [
    "def count_up(x,y):\n",
    "    m = min(x,y)\n",
    "    t = max(x,y)    \n",
    "    for i in range(m+1,t):\n",
    "        print(i)\n",
    "\n",
    "count_up(1,5)"
   ]
  },
  {
   "cell_type": "markdown",
   "metadata": {},
   "source": [
    "### 문제13"
   ]
  },
  {
   "cell_type": "markdown",
   "metadata": {},
   "source": [
    "주어진 자연수가 홀수인지 짝수인지 판별해 주는 함수(is_odd)를 작성해 보자.  \n",
    "\n",
    "[실행 명령문]  \n",
    "is_odd(35)  \n",
    "is_odd(24)  \n",
    "\n",
    "[실행 결과]  # 실행결과가 왜 반대로 되어있죠?\n",
    "\n",
    "짝수  \n",
    "홀수\n"
   ]
  },
  {
   "cell_type": "code",
   "execution_count": 111,
   "metadata": {},
   "outputs": [
    {
     "name": "stdout",
     "output_type": "stream",
     "text": [
      "홀수\n",
      "짝수\n"
     ]
    }
   ],
   "source": [
    "def is_odd(x):\n",
    "    if x % 2 == 0:\n",
    "        print('짝수')\n",
    "    else:\n",
    "        print('홀수')\n",
    "is_odd(35)\n",
    "is_odd(24)"
   ]
  },
  {
   "cell_type": "markdown",
   "metadata": {},
   "source": [
    "### 문제14"
   ]
  },
  {
   "cell_type": "markdown",
   "metadata": {},
   "source": [
    "입력으로 들어오는 모든 수의 평균 값을 계산해 주는 get_avg 함수를 작성한다. (단 입력으로 들어오는 수의 개수는 정해져 있지 않다.)  \n",
    "\n",
    "[실행 명령문]  \n",
    "get_avg(10, 20, 30, 40, 50)  \n",
    "get_avg(1,2,3,4,5,6,7,8,9,10)\n",
    "\n",
    "[실행 결과]  \n",
    "30.0  \n",
    "5.5"
   ]
  },
  {
   "cell_type": "code",
   "execution_count": 130,
   "metadata": {},
   "outputs": [
    {
     "name": "stdout",
     "output_type": "stream",
     "text": [
      "30.0\n",
      "5.5\n"
     ]
    }
   ],
   "source": [
    "def get_avg(*x):\n",
    "    avg = 0 \n",
    "    for i in range(len(x)):\n",
    "        avg += x[i]\n",
    "    j = len(x)\n",
    "    avg = avg / j\n",
    "    print(avg)\n",
    "\n",
    "get_avg(10,20,30,40,50)\n",
    "get_avg(1,2,3,4,5,6,7,8,9,10)\n",
    "\n"
   ]
  },
  {
   "cell_type": "markdown",
   "metadata": {},
   "source": [
    "### 문제15"
   ]
  },
  {
   "cell_type": "markdown",
   "metadata": {},
   "source": [
    "add_fruit()함수는 첫번째 인자로 받은 문자열에 두번째 문자열을 추가하여 리턴하는 함수입니다. 실행 결과와 같이 실행되도록 add_fruit()함수를 선언하세요.  \n",
    "\n",
    "[실행 명령문]  \n",
    "```python\n",
    "fruits = '사과 포도 수박'\n",
    "fruits = add_fruit(fruits, '멜론')\n",
    "print(fruits)\n",
    "\n",
    "fruits = add_fruit(fruits, '복숭아')\n",
    "print(fruits)\n",
    "```\n",
    "\n",
    "[실행 결과]  \n",
    "사과 포도 수박 멜론  \n",
    "사과 포도 수박 멜론 복숭아"
   ]
  },
  {
   "cell_type": "code",
   "execution_count": 137,
   "metadata": {},
   "outputs": [
    {
     "name": "stdout",
     "output_type": "stream",
     "text": [
      "사과 포도 수박 멜론\n",
      "사과 포도 수박 멜론 복숭아\n"
     ]
    }
   ],
   "source": [
    "\n",
    "def add_fruit(x,y):\n",
    "    x = x + ' ' + y\n",
    "    return x\n",
    "\n",
    "fruits = '사과 포도 수박'\n",
    "fruits = add_fruit(fruits, '멜론')\n",
    "print(fruits)\n",
    "\n",
    "fruits = add_fruit(fruits, '복숭아')\n",
    "print(fruits)\n"
   ]
  }
 ],
 "metadata": {
  "kernelspec": {
   "display_name": "Python 3 (ipykernel)",
   "language": "python",
   "name": "python3"
  },
  "language_info": {
   "codemirror_mode": {
    "name": "ipython",
    "version": 3
   },
   "file_extension": ".py",
   "mimetype": "text/x-python",
   "name": "python",
   "nbconvert_exporter": "python",
   "pygments_lexer": "ipython3",
   "version": "3.9.6"
  }
 },
 "nbformat": 4,
 "nbformat_minor": 2
}
