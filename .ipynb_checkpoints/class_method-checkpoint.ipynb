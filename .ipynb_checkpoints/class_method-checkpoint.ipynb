{
 "cells": [
  {
   "cell_type": "code",
   "execution_count": null,
   "id": "c5adaa68",
   "metadata": {},
   "outputs": [],
   "source": []
  },
  {
   "cell_type": "code",
   "execution_count": 46,
   "id": "8f6dff53",
   "metadata": {},
   "outputs": [
    {
     "name": "stdout",
     "output_type": "stream",
     "text": [
      "1\n",
      "2\n",
      "3\n",
      "4\n",
      "5\n",
      "test 1000\n"
     ]
    }
   ],
   "source": [
    "class Account :\n",
    "    company_name : '신한'\n",
    "    count = 0\n",
    "    def __init__(self, accNo):\n",
    "        self.accNO = accNo\n",
    "        self.__balance = 0\n",
    "        Account.count += 1\n",
    "        print(Account.count)\n",
    "    def deposit(self, money):\n",
    "        self.__balance += money\n",
    "        print('test', self.__balance)\n",
    "    def withdraw(self, money):\n",
    "        self.__balance += money\n",
    "\n",
    "        \n",
    "a1 = Account('oo1')\n",
    "a2 = Account('oo2')\n",
    "a3 = Account('oo3')\n",
    "a4 = Account('oo4')\n",
    "a5 = Account('oo5')\n",
    "\n"
   ]
  },
  {
   "cell_type": "code",
   "execution_count": 6,
   "id": "d3859ed7",
   "metadata": {},
   "outputs": [
    {
     "name": "stdout",
     "output_type": "stream",
     "text": [
      "['책']\n",
      "['열쇠']\n"
     ]
    }
   ],
   "source": [
    "class Person:\n",
    "    def __init__(self):\n",
    "        self.bag = []\n",
    " \n",
    "    def put_bag(self, stuff):\n",
    "        self.bag.append(stuff)\n",
    " \n",
    "james = Person()\n",
    "james.put_bag('책')\n",
    " \n",
    "maria = Person()\n",
    "maria.put_bag('열쇠')\n",
    " \n",
    "print(james.bag)\n",
    "print(maria.bag)\n"
   ]
  },
  {
   "cell_type": "code",
   "execution_count": 7,
   "id": "2633fa37",
   "metadata": {},
   "outputs": [
    {
     "data": {
      "text/plain": [
       "mappingproxy({'__module__': '__main__',\n",
       "              '__annotations__': {'company_name': '신한'},\n",
       "              'count': 5,\n",
       "              '__init__': <function __main__.Account.__init__(self, accNo)>,\n",
       "              'deposit': <function __main__.Account.deposit(self, money)>,\n",
       "              'withdraw': <function __main__.Account.withdraw(self, money)>,\n",
       "              '__dict__': <attribute '__dict__' of 'Account' objects>,\n",
       "              '__weakref__': <attribute '__weakref__' of 'Account' objects>,\n",
       "              '__doc__': None})"
      ]
     },
     "execution_count": 7,
     "metadata": {},
     "output_type": "execute_result"
    }
   ],
   "source": [
    "Account.__dict__ "
   ]
  },
  {
   "cell_type": "code",
   "execution_count": 34,
   "id": "ba7c2a1b",
   "metadata": {},
   "outputs": [
    {
     "data": {
      "text/plain": [
       "2"
      ]
     },
     "execution_count": 34,
     "metadata": {},
     "output_type": "execute_result"
    }
   ],
   "source": [
    "class Account :\n",
    "    '''금융원에서 사용하는 클래스'''\n",
    "    company_name : '신한'\n",
    "    count = 0\n",
    "    def __init__(self, accNo):\n",
    "       \n",
    "        self.accNO = accNo\n",
    "        self.__balance = 0\n",
    "        Account.count += 1\n",
    "    def deposit(self, money):\n",
    "        self.__balance += money\n",
    "    def withdraw(self, money):\n",
    "        self.__balance += money\n",
    "    @classmethod    \n",
    "    def get_count(cls):\n",
    "        return cls.count\n",
    "        \n",
    "a1 = Account('oo1')\n",
    "a2 = Account('oo2')\n",
    "Account.count"
   ]
  },
  {
   "cell_type": "code",
   "execution_count": 13,
   "id": "45466ae4",
   "metadata": {},
   "outputs": [
    {
     "data": {
      "text/plain": [
       "2"
      ]
     },
     "execution_count": 13,
     "metadata": {},
     "output_type": "execute_result"
    }
   ],
   "source": [
    "a1.count"
   ]
  },
  {
   "cell_type": "code",
   "execution_count": 20,
   "id": "5a87534a",
   "metadata": {},
   "outputs": [
    {
     "data": {
      "text/plain": [
       "2"
      ]
     },
     "execution_count": 20,
     "metadata": {},
     "output_type": "execute_result"
    }
   ],
   "source": [
    "a1.get_count()"
   ]
  },
  {
   "cell_type": "code",
   "execution_count": 19,
   "id": "17b5837e",
   "metadata": {},
   "outputs": [],
   "source": [
    "class Calc:\n",
    "    \n",
    "    def add(self, x, y):\n",
    "        return x + y\n",
    "    \n",
    "    def mul (self, x, y):\n",
    "        return x * y"
   ]
  },
  {
   "cell_type": "code",
   "execution_count": 23,
   "id": "e86c6cfc",
   "metadata": {},
   "outputs": [],
   "source": [
    "c = Calc()"
   ]
  },
  {
   "cell_type": "code",
   "execution_count": 24,
   "id": "3f50e44b",
   "metadata": {},
   "outputs": [
    {
     "data": {
      "text/plain": [
       "30"
      ]
     },
     "execution_count": 24,
     "metadata": {},
     "output_type": "execute_result"
    }
   ],
   "source": [
    "c.add(10,20)"
   ]
  },
  {
   "cell_type": "code",
   "execution_count": 25,
   "id": "a4f5e3bf",
   "metadata": {},
   "outputs": [
    {
     "data": {
      "text/plain": [
       "200"
      ]
     },
     "execution_count": 25,
     "metadata": {},
     "output_type": "execute_result"
    }
   ],
   "source": [
    "c.mul(10,20)"
   ]
  },
  {
   "cell_type": "code",
   "execution_count": 29,
   "id": "08adeab8",
   "metadata": {},
   "outputs": [],
   "source": [
    "class Calc:\n",
    "    @staticmethod\n",
    "    def add(x, y):\n",
    "        return x + y\n",
    "    @staticmethod\n",
    "    def mul (x, y):\n",
    "        return x * y"
   ]
  },
  {
   "cell_type": "code",
   "execution_count": 30,
   "id": "4b468eca",
   "metadata": {},
   "outputs": [
    {
     "data": {
      "text/plain": [
       "30"
      ]
     },
     "execution_count": 30,
     "metadata": {},
     "output_type": "execute_result"
    }
   ],
   "source": [
    "c.add(10,20)"
   ]
  },
  {
   "cell_type": "code",
   "execution_count": 31,
   "id": "dc3d25fb",
   "metadata": {},
   "outputs": [
    {
     "data": {
      "text/plain": [
       "200"
      ]
     },
     "execution_count": 31,
     "metadata": {},
     "output_type": "execute_result"
    }
   ],
   "source": [
    "c.mul(10,20)"
   ]
  },
  {
   "cell_type": "code",
   "execution_count": null,
   "id": "62be8c72",
   "metadata": {},
   "outputs": [],
   "source": []
  },
  {
   "cell_type": "code",
   "execution_count": null,
   "id": "7120439e",
   "metadata": {},
   "outputs": [],
   "source": []
  },
  {
   "cell_type": "code",
   "execution_count": null,
   "id": "f05bb9f3",
   "metadata": {},
   "outputs": [],
   "source": []
  },
  {
   "cell_type": "code",
   "execution_count": null,
   "id": "36e60902",
   "metadata": {},
   "outputs": [],
   "source": []
  }
 ],
 "metadata": {
  "kernelspec": {
   "display_name": "Python 3 (ipykernel)",
   "language": "python",
   "name": "python3"
  },
  "language_info": {
   "codemirror_mode": {
    "name": "ipython",
    "version": 3
   },
   "file_extension": ".py",
   "mimetype": "text/x-python",
   "name": "python",
   "nbconvert_exporter": "python",
   "pygments_lexer": "ipython3",
   "version": "3.9.6"
  }
 },
 "nbformat": 4,
 "nbformat_minor": 5
}
