{
 "cells": [
  {
   "cell_type": "code",
   "execution_count": 1,
   "id": "572b7bef",
   "metadata": {},
   "outputs": [],
   "source": [
    "def add(x,y):\n",
    "    r = x + y\n",
    "    return r"
   ]
  },
  {
   "cell_type": "code",
   "execution_count": 2,
   "id": "895c1e27",
   "metadata": {},
   "outputs": [
    {
     "data": {
      "text/plain": [
       "30"
      ]
     },
     "execution_count": 2,
     "metadata": {},
     "output_type": "execute_result"
    }
   ],
   "source": [
    "add(10,20)"
   ]
  },
  {
   "cell_type": "code",
   "execution_count": 4,
   "id": "03276f16",
   "metadata": {},
   "outputs": [],
   "source": [
    "def fn2(x,y):\n",
    "    i = x + y\n",
    "    return i"
   ]
  },
  {
   "cell_type": "code",
   "execution_count": 8,
   "id": "a0e30a40",
   "metadata": {},
   "outputs": [
    {
     "name": "stdout",
     "output_type": "stream",
     "text": [
      "(10, 20, 30)\n",
      "(40,)\n"
     ]
    }
   ],
   "source": [
    "def fn3(x,*y):  # 언페킹 사용\n",
    "    print(x)\n",
    "    print(y)\n",
    "\n",
    "a = (10,20,30)\n",
    "b = 40\n",
    "\n",
    "fn3(a,b)"
   ]
  },
  {
   "cell_type": "code",
   "execution_count": 15,
   "id": "892a6eff",
   "metadata": {},
   "outputs": [],
   "source": [
    "x = {'name' : 'jimin', 'addr' : 'seoul'}\n",
    "\n",
    "def info2(name, addr):\n",
    "    print(name,addr)"
   ]
  },
  {
   "cell_type": "code",
   "execution_count": 18,
   "id": "f86b77ee",
   "metadata": {},
   "outputs": [
    {
     "name": "stdout",
     "output_type": "stream",
     "text": [
      "name addr\n"
     ]
    }
   ],
   "source": [
    "info2(*x)"
   ]
  }
 ],
 "metadata": {
  "kernelspec": {
   "display_name": "Python 3 (ipykernel)",
   "language": "python",
   "name": "python3"
  },
  "language_info": {
   "codemirror_mode": {
    "name": "ipython",
    "version": 3
   },
   "file_extension": ".py",
   "mimetype": "text/x-python",
   "name": "python",
   "nbconvert_exporter": "python",
   "pygments_lexer": "ipython3",
   "version": "3.9.6"
  }
 },
 "nbformat": 4,
 "nbformat_minor": 5
}
