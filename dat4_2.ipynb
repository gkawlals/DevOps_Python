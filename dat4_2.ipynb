{
 "cells": [
  {
   "cell_type": "code",
   "execution_count": 2,
   "id": "12b890c1",
   "metadata": {},
   "outputs": [],
   "source": [
    "# overried를 하기전 \n",
    "class Person:\n",
    "    pass\n",
    "\n",
    "class Student(Person):\n",
    "    # 인스턴스를 초기화하는 메서드 __init__ \n",
    "    def __init__(self, name, age, major):\n",
    "        self.name=name \n",
    "        self.age=age \n",
    "        self.major=major \n",
    "        \n",
    "\n",
    "class Professor(Person):\n",
    "    # 공통적으로 들어가는 변수떄문에 코드가 길어진다. \n",
    "    def __init__(self, name, age, subject):\n",
    "        self.name=name \n",
    "        self.age=age \n",
    "        self.subject=subject \n",
    "\n",
    "class Employee(Person):\n",
    "    def __init__(self, name, age, dept):\n",
    "        self.name=name \n",
    "        self.age=age \n",
    "        self.dept=dept  \n"
   ]
  },
  {
   "cell_type": "code",
   "execution_count": 3,
   "id": "7a1b5c6d",
   "metadata": {},
   "outputs": [],
   "source": [
    "s = Student('홍길동',25, '컴공')\n",
    "p = Professor('이순신', 53, 'python')\n",
    "e = Employee('유관순', 45, '행정실')"
   ]
  },
  {
   "cell_type": "code",
   "execution_count": 19,
   "id": "0053a894",
   "metadata": {},
   "outputs": [],
   "source": [
    "# overried를 한 후 \n",
    "class Person:\n",
    "     def __init__(self, name, age):\n",
    "        self.name=name \n",
    "        self.age=age \n",
    "\n",
    "class Student(Person):\n",
    "    # 인스턴스를 초기화하는 메서드 __init__ \n",
    "    def __init__(self, name, age, major):\n",
    "        super().__init__(name, age)\n",
    "        self.major=major \n",
    "        \n",
    "# super()함수를 호출함으로써 좀 더 짧아졌다. \n",
    "class Professor(Person):\n",
    "    def __init__(self, name, age, subject):\n",
    "        super().__init__(name, age)\n",
    "        self.subject=subject \n",
    "        \n",
    "\n",
    "class Employee(Person):\n",
    "    def __init__(self, name, age, dept):\n",
    "        super().__init__(name, age)\n",
    "        self.dept=dept  \n",
    "\n"
   ]
  },
  {
   "cell_type": "code",
   "execution_count": 46,
   "id": "6971c7e5",
   "metadata": {},
   "outputs": [],
   "source": [
    "s = Student('홍길동',25, '컴공')\n",
    "p = Professor('이순신', 53, 'python')\n",
    "e = Employee('유관순', 45, '행정실')"
   ]
  },
  {
   "cell_type": "code",
   "execution_count": 24,
   "id": "d2156338",
   "metadata": {},
   "outputs": [
    {
     "data": {
      "text/plain": [
       "'유관순'"
      ]
     },
     "execution_count": 24,
     "metadata": {},
     "output_type": "execute_result"
    }
   ],
   "source": [
    "e.name"
   ]
  },
  {
   "cell_type": "code",
   "execution_count": 45,
   "id": "e3ae2008",
   "metadata": {},
   "outputs": [],
   "source": [
    "# overried를 한 후 \n",
    "class Person:\n",
    "    def __init__(self, name, age):\n",
    "        self.name=name \n",
    "        self.age=age \n",
    "    def get_info(self):\n",
    "        print(self.name,self.age,end=' ')\n",
    "\n",
    "class Student(Person):\n",
    "    # 인스턴스를 초기화하는 메서드 __init__ \n",
    "    def __init__(self, name, age, major):\n",
    "        super().__init__(name, age)\n",
    "        self.major=major \n",
    "        \n",
    "    def get_info(self):\n",
    "        super().get_info()\n",
    "        print(self.major)\n",
    "\n",
    "        \n",
    "# super()함수를 호출함으로써 좀 더 짧아졌다. \n",
    "class Professor(Person):\n",
    "    def __init__(self, name, age, subject):\n",
    "        super().__init__(name, age)\n",
    "        self.subject=subject \n",
    "        \n",
    "    def get_info(self):\n",
    "        super().get_info()\n",
    "        print(self.subject)\n",
    "    \n",
    "\n",
    "class Employee(Person):\n",
    "    def __init__(self, name, age, dept):\n",
    "        super().__init__(name, age)\n",
    "        self.dept=dept  \n",
    "        \n",
    "    def get_info(self):\n",
    "        super().get_info()\n",
    "        print(self.dept)\n",
    "        \n",
    "    \n",
    "\n"
   ]
  },
  {
   "cell_type": "code",
   "execution_count": 47,
   "id": "bec2cb74",
   "metadata": {},
   "outputs": [
    {
     "name": "stdout",
     "output_type": "stream",
     "text": [
      "홍길동 25 컴공\n"
     ]
    }
   ],
   "source": [
    "s.get_info()"
   ]
  },
  {
   "cell_type": "code",
   "execution_count": 48,
   "id": "8685501d",
   "metadata": {},
   "outputs": [
    {
     "name": "stdout",
     "output_type": "stream",
     "text": [
      "유관순 45 행정실\n"
     ]
    }
   ],
   "source": [
    "e.get_info()"
   ]
  },
  {
   "cell_type": "code",
   "execution_count": 50,
   "id": "c739adc8",
   "metadata": {},
   "outputs": [
    {
     "name": "stdout",
     "output_type": "stream",
     "text": [
      "이순신 53 python\n"
     ]
    }
   ],
   "source": [
    "p.get_info()"
   ]
  },
  {
   "cell_type": "code",
   "execution_count": 51,
   "id": "4be36daa",
   "metadata": {},
   "outputs": [],
   "source": [
    "class Tiger:\n",
    "    def eat(self):\n",
    "        print('먹는다')\n",
    "\n",
    "class Lion:\n",
    "    def sleep(self):\n",
    "        print('잔다')\n",
    "        \n",
    "class Liger(Tiger, Lion):\n",
    "    def walk(self):\n",
    "        print('걷는다')\n",
    "        "
   ]
  },
  {
   "cell_type": "code",
   "execution_count": 52,
   "id": "658b40dc",
   "metadata": {},
   "outputs": [],
   "source": [
    "ani = Liger()"
   ]
  },
  {
   "cell_type": "code",
   "execution_count": 54,
   "id": "95c34ca4",
   "metadata": {},
   "outputs": [
    {
     "name": "stdout",
     "output_type": "stream",
     "text": [
      "먹는다\n"
     ]
    }
   ],
   "source": [
    "ani.eat()"
   ]
  },
  {
   "cell_type": "code",
   "execution_count": 55,
   "id": "f98164b5",
   "metadata": {},
   "outputs": [
    {
     "name": "stdout",
     "output_type": "stream",
     "text": [
      "잔다\n"
     ]
    }
   ],
   "source": [
    "ani.sleep()"
   ]
  },
  {
   "cell_type": "code",
   "execution_count": 56,
   "id": "f61a5f30",
   "metadata": {},
   "outputs": [
    {
     "name": "stdout",
     "output_type": "stream",
     "text": [
      "걷는다\n"
     ]
    }
   ],
   "source": [
    "ani.walk()"
   ]
  },
  {
   "cell_type": "code",
   "execution_count": 87,
   "id": "3f23d088",
   "metadata": {},
   "outputs": [],
   "source": [
    "class Lion:\n",
    "    def sleep(self):\n",
    "        print('잔다')\n",
    "        \n",
    "    def cry(selfa):\n",
    "        print('으르렁')\n",
    "        \n",
    "class Tiger:\n",
    "    def eat(self):\n",
    "        print('먹는다')\n",
    "    \n",
    "    def cry(selfa):\n",
    "        print('어흥')\n",
    "        \n",
    "class Liger(Lion, Tiger):\n",
    "    def walk(self):\n",
    "        print('걷는다')\n"
   ]
  },
  {
   "cell_type": "code",
   "execution_count": 88,
   "id": "17eabec3",
   "metadata": {},
   "outputs": [],
   "source": [
    "ani = Liger()"
   ]
  },
  {
   "cell_type": "code",
   "execution_count": 89,
   "id": "a2aa3ee3",
   "metadata": {},
   "outputs": [
    {
     "name": "stdout",
     "output_type": "stream",
     "text": [
      "으르렁\n"
     ]
    }
   ],
   "source": [
    "ani.cry()"
   ]
  },
  {
   "cell_type": "code",
   "execution_count": 86,
   "id": "5ac4d5bc",
   "metadata": {},
   "outputs": [
    {
     "data": {
      "text/plain": [
       "[__main__.Liger, __main__.Tiger, __main__.Lion, object]"
      ]
     },
     "execution_count": 86,
     "metadata": {},
     "output_type": "execute_result"
    }
   ],
   "source": [
    "Liger.mro()"
   ]
  },
  {
   "cell_type": "code",
   "execution_count": null,
   "id": "72658303",
   "metadata": {},
   "outputs": [],
   "source": []
  }
 ],
 "metadata": {
  "kernelspec": {
   "display_name": "Python 3 (ipykernel)",
   "language": "python",
   "name": "python3"
  },
  "language_info": {
   "codemirror_mode": {
    "name": "ipython",
    "version": 3
   },
   "file_extension": ".py",
   "mimetype": "text/x-python",
   "name": "python",
   "nbconvert_exporter": "python",
   "pygments_lexer": "ipython3",
   "version": "3.9.6"
  }
 },
 "nbformat": 4,
 "nbformat_minor": 5
}
