{
 "cells": [
  {
   "cell_type": "code",
   "execution_count": 1,
   "id": "fb24b412",
   "metadata": {},
   "outputs": [],
   "source": [
    "def add(x,y):\n",
    "    r = x + y\n",
    "    return r"
   ]
  },
  {
   "cell_type": "code",
   "execution_count": 2,
   "id": "be65ad52",
   "metadata": {},
   "outputs": [
    {
     "data": {
      "text/plain": [
       "30"
      ]
     },
     "execution_count": 2,
     "metadata": {},
     "output_type": "execute_result"
    }
   ],
   "source": [
    "add(10,20)"
   ]
  },
  {
   "cell_type": "code",
   "execution_count": 4,
   "id": "1e1b06e6",
   "metadata": {},
   "outputs": [],
   "source": [
    "def fn2(x,y):\n",
    "    i = x + y\n",
    "    return i"
   ]
  },
  {
   "cell_type": "code",
   "execution_count": 8,
   "id": "8b4b9839",
   "metadata": {},
   "outputs": [
    {
     "name": "stdout",
     "output_type": "stream",
     "text": [
      "(10, 20, 30)\n",
      "(40,)\n"
     ]
    }
   ],
   "source": [
    "def fn3(x,*y):  # 언페킹 사용\n",
    "    print(x)\n",
    "    print(y)\n",
    "\n",
    "a = (10,20,30)\n",
    "b = 40\n",
    "\n",
    "fn3(a,b)"
   ]
  },
  {
   "cell_type": "code",
   "execution_count": 15,
   "id": "0775132e",
   "metadata": {},
   "outputs": [],
   "source": [
    "x = {'name' : 'jimin', 'addr' : 'seoul'}\n",
    "\n",
    "def info2(name, addr):\n",
    "    print(name,addr)"
   ]
  },
  {
   "cell_type": "code",
   "execution_count": 19,
   "id": "6754f5d2",
   "metadata": {},
   "outputs": [
    {
     "name": "stdout",
     "output_type": "stream",
     "text": [
      "name addr\n"
     ]
    }
   ],
   "source": [
    "info2(*x)"
   ]
  },
  {
   "cell_type": "code",
   "execution_count": 28,
   "id": "0597885a",
   "metadata": {},
   "outputs": [],
   "source": [
    "def info3 (**wkargs):\n",
    "    print(wkargs)"
   ]
  },
  {
   "cell_type": "code",
   "execution_count": 29,
   "id": "9129814d",
   "metadata": {},
   "outputs": [],
   "source": [
    "info3 = {'name' : 'jimin', 'addr' : 'seoul','age':25}"
   ]
  },
  {
   "cell_type": "code",
   "execution_count": 32,
   "id": "3eb1a1c8",
   "metadata": {},
   "outputs": [],
   "source": [
    "def info(name, age, addr='제주도'):\n",
    "    print(name, age, addr) # 변수의 대한 값을 null로 받을 경우 변수명 = defoult값을 지정할 수 있다. "
   ]
  },
  {
   "cell_type": "code",
   "execution_count": 34,
   "id": "b7df6fe5",
   "metadata": {},
   "outputs": [
    {
     "name": "stdout",
     "output_type": "stream",
     "text": [
      "홍길동 20 제주도\n"
     ]
    }
   ],
   "source": [
    "info('홍길동',20)"
   ]
  },
  {
   "cell_type": "code",
   "execution_count": null,
   "id": "a5c2c158",
   "metadata": {},
   "outputs": [],
   "source": []
  },
  {
   "cell_type": "code",
   "execution_count": null,
   "id": "297d0f9d",
   "metadata": {},
   "outputs": [],
   "source": []
  }
 ],
 "metadata": {
  "kernelspec": {
   "display_name": "Python 3 (ipykernel)",
   "language": "python",
   "name": "python3"
  },
  "language_info": {
   "codemirror_mode": {
    "name": "ipython",
    "version": 3
   },
   "file_extension": ".py",
   "mimetype": "text/x-python",
   "name": "python",
   "nbconvert_exporter": "python",
   "pygments_lexer": "ipython3",
   "version": "3.9.6"
  }
 },
 "nbformat": 4,
 "nbformat_minor": 5
}
