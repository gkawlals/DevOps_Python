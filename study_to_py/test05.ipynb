{
 "cells": [
  {
   "cell_type": "code",
   "execution_count": 2,
   "id": "43cee06a",
   "metadata": {},
   "outputs": [],
   "source": [
    "a = [10,20]\n",
    "b = (10,20)\n",
    "c = {10,20}\n",
    "d = {1:10, 2:20}\n",
    "e = 'hello'"
   ]
  },
  {
   "cell_type": "code",
   "execution_count": 4,
   "id": "35e74c6d",
   "metadata": {},
   "outputs": [
    {
     "data": {
      "text/plain": [
       "[10, 20]"
      ]
     },
     "execution_count": 4,
     "metadata": {},
     "output_type": "execute_result"
    }
   ],
   "source": [
    "a"
   ]
  },
  {
   "cell_type": "code",
   "execution_count": 1,
   "id": "95b951a2",
   "metadata": {},
   "outputs": [
    {
     "name": "stdout",
     "output_type": "stream",
     "text": [
      "\n",
      "    1. 친구 추가 2. 친구 검색 3. 친구 목록 보기 4.친구 삭제 9. 종료\n",
      "    \n",
      "메뉴 선택 : 1\n",
      "친구 추가\n",
      "추가할 친구 입력 : 함지민\n",
      "\n",
      "    1. 친구 추가 2. 친구 검색 3. 친구 목록 보기 4.친구 삭제 9. 종료\n",
      "    \n",
      "메뉴 선택 : 1\n",
      "친구 추가\n",
      "추가할 친구 입력 : 이협건\n",
      "\n",
      "    1. 친구 추가 2. 친구 검색 3. 친구 목록 보기 4.친구 삭제 9. 종료\n",
      "    \n",
      "메뉴 선택 : 1\n",
      "친구 추가\n",
      "추가할 친구 입력 : 이순신\n",
      "\n",
      "    1. 친구 추가 2. 친구 검색 3. 친구 목록 보기 4.친구 삭제 9. 종료\n",
      "    \n",
      "메뉴 선택 : 1\n",
      "친구 추가\n",
      "추가할 친구 입력 : 홍길동\n",
      "\n",
      "    1. 친구 추가 2. 친구 검색 3. 친구 목록 보기 4.친구 삭제 9. 종료\n",
      "    \n",
      "메뉴 선택 : 3\n",
      "친구 목록 : \n",
      "1 : 함지민\n",
      "2 : 이협건\n",
      "3 : 이순신\n",
      "4 : 홍길동\n",
      "\n",
      "    1. 친구 추가 2. 친구 검색 3. 친구 목록 보기 4.친구 삭제 9. 종료\n",
      "    \n",
      "메뉴 선택 : 4\n",
      "친구 이름을 알려주세요 :이협건\n",
      "1 : 함지민\n",
      "2 : 이순신\n",
      "3 : 홍길동\n",
      "\n",
      "    1. 친구 추가 2. 친구 검색 3. 친구 목록 보기 4.친구 삭제 9. 종료\n",
      "    \n",
      "메뉴 선택 : 2\n",
      "친구 검색\n",
      "검색할 이름 입력 : 이협건\n",
      "등록되지 않은 이름입니다.\n",
      "\n",
      "    1. 친구 추가 2. 친구 검색 3. 친구 목록 보기 4.친구 삭제 9. 종료\n",
      "    \n",
      "메뉴 선택 : 2\n",
      "친구 검색\n",
      "검색할 이름 입력 : 함지민\n",
      "0 : 함지민\n",
      "\n",
      "    1. 친구 추가 2. 친구 검색 3. 친구 목록 보기 4.친구 삭제 9. 종료\n",
      "    \n",
      "메뉴 선택 : 9\n",
      "프로그램을 종료 합니다.\n"
     ]
    }
   ],
   "source": [
    "contact = []\n",
    "while True:\n",
    "    print('''\n",
    "    1. 친구 추가 2. 친구 검색 3. 친구 목록 보기 4.친구 삭제 5.친구 수정 9. 종료\n",
    "    ''')\n",
    "    menu = int(input('메뉴 선택 : '))\n",
    "    \n",
    "    if menu == 9:\n",
    "        print('프로그램을 종료 합니다.')\n",
    "        break\n",
    "    elif menu == 1:\n",
    "        print('친구 추가')\n",
    "        name = input('추가할 친구 입력 : ')\n",
    "        contact.append(name)\n",
    "    elif menu == 2:\n",
    "        print('친구 검색')\n",
    "        name = input('검색할 이름 입력 : ')\n",
    "        if name in contact:\n",
    "            idx = contact.index(name)\n",
    "            print(idx, ':', name)\n",
    "        else :\n",
    "            print('등록되지 않은 이름입니다.')\n",
    "    elif menu == 3:\n",
    "        print('친구 목록 : ')\n",
    "        for idx, name in enumerate(contact, 1):\n",
    "            print(idx+1,':',name)\n",
    "    elif menu == 4:\n",
    "            name = input('삭제할 친구 이름을 알려주세요 :')\n",
    "            if name not in contact:\n",
    "                print('친구 이름을 확인해주세요')\n",
    "            else:\n",
    "                contact.remove(name)\n",
    "                for idx, name in enumerate(contact, 1):\n",
    "                    print(idx+1,':',name)\n",
    "                print('삭제의 성공했습니다.')\n",
    "    elif menu == 5:\n",
    "        name = input('수정할 친구 이름을 알려주세요 :')\n",
    "            if name not in contact:\n",
    "                print('친구 이름을 확인해주세요')\n",
    "            else:\n",
    "                update_name = input('수정하는 이름')\n",
    "                idx =  contact.index(update_name)\n",
    "                contact[idx] = update_name\n",
    "                print('수정에 성공했습니다.')\n",
    "    else : \n",
    "        print('잘못된 입력입니다.')\n",
    "    "
   ]
  },
  {
   "cell_type": "code",
   "execution_count": null,
   "id": "f95cd767",
   "metadata": {},
   "outputs": [],
   "source": []
  }
 ],
 "metadata": {
  "kernelspec": {
   "display_name": "Python 3",
   "language": "python",
   "name": "python3"
  },
  "language_info": {
   "codemirror_mode": {
    "name": "ipython",
    "version": 3
   },
   "file_extension": ".py",
   "mimetype": "text/x-python",
   "name": "python",
   "nbconvert_exporter": "python",
   "pygments_lexer": "ipython3",
   "version": "3.8.8"
  }
 },
 "nbformat": 4,
 "nbformat_minor": 5
}
