{
 "cells": [
  {
   "cell_type": "code",
   "execution_count": 3,
   "id": "cc71f53b",
   "metadata": {},
   "outputs": [],
   "source": [
    "a = {'a' : 10}"
   ]
  },
  {
   "cell_type": "code",
   "execution_count": 6,
   "id": "42e09a16",
   "metadata": {},
   "outputs": [],
   "source": [
    "a.update(b=20,c=30,d=40,e=50)# update method 사용해서 추가하기"
   ]
  },
  {
   "cell_type": "code",
   "execution_count": 8,
   "id": "1272bc22",
   "metadata": {},
   "outputs": [
    {
     "data": {
      "text/plain": [
       "{'a': 10, 'b': 20, 'c': 30, 'd': 40, 'e': 50}"
      ]
     },
     "execution_count": 8,
     "metadata": {},
     "output_type": "execute_result"
    }
   ],
   "source": [
    "a"
   ]
  },
  {
   "cell_type": "code",
   "execution_count": 12,
   "id": "40bdaa41",
   "metadata": {},
   "outputs": [],
   "source": [
    "a.update(a=80)# update function을 사용해서 수정하기"
   ]
  },
  {
   "cell_type": "code",
   "execution_count": 14,
   "id": "4a88c279",
   "metadata": {},
   "outputs": [
    {
     "data": {
      "text/plain": [
       "{'a': 80, 'b': 20, 'c': 30, 'd': 40, 'e': 50}"
      ]
     },
     "execution_count": 14,
     "metadata": {},
     "output_type": "execute_result"
    }
   ],
   "source": [
    "a"
   ]
  },
  {
   "cell_type": "code",
   "execution_count": 17,
   "id": "f401cae8",
   "metadata": {},
   "outputs": [
    {
     "data": {
      "text/plain": [
       "50"
      ]
     },
     "execution_count": 17,
     "metadata": {},
     "output_type": "execute_result"
    }
   ],
   "source": [
    "a.pop('e') # dict pop를 사용해 삭제"
   ]
  },
  {
   "cell_type": "code",
   "execution_count": 18,
   "id": "45752d0b",
   "metadata": {},
   "outputs": [
    {
     "data": {
      "text/plain": [
       "{'a': 80, 'b': 20, 'c': 30, 'd': 40}"
      ]
     },
     "execution_count": 18,
     "metadata": {},
     "output_type": "execute_result"
    }
   ],
   "source": [
    "a"
   ]
  },
  {
   "cell_type": "code",
   "execution_count": 19,
   "id": "18dedf1a",
   "metadata": {},
   "outputs": [],
   "source": [
    "x = a.keys()"
   ]
  },
  {
   "cell_type": "code",
   "execution_count": 20,
   "id": "dda0ce4d",
   "metadata": {},
   "outputs": [
    {
     "name": "stdout",
     "output_type": "stream",
     "text": [
      "80\n",
      "20\n",
      "30\n",
      "40\n"
     ]
    }
   ],
   "source": [
    "for i in x:\n",
    "    print(a.get(i))"
   ]
  },
  {
   "cell_type": "code",
   "execution_count": 21,
   "id": "81e02b4b",
   "metadata": {},
   "outputs": [],
   "source": [
    "# x = { key : value for key, value in a.imtems if value != 20 } // 한줄로 딕셔너리를 만드는 방법 "
   ]
  },
  {
   "cell_type": "code",
   "execution_count": 29,
   "id": "d4bc0a2b",
   "metadata": {},
   "outputs": [],
   "source": [
    "s = {'kor', 'meth', 'music','kor'}"
   ]
  },
  {
   "cell_type": "code",
   "execution_count": 30,
   "id": "5b9ea634",
   "metadata": {},
   "outputs": [
    {
     "data": {
      "text/plain": [
       "{'kor', 'meth', 'music'}"
      ]
     },
     "execution_count": 30,
     "metadata": {},
     "output_type": "execute_result"
    }
   ],
   "source": [
    "s"
   ]
  },
  {
   "cell_type": "code",
   "execution_count": 31,
   "id": "b952d1ec",
   "metadata": {},
   "outputs": [
    {
     "data": {
      "text/plain": [
       "set"
      ]
     },
     "execution_count": 31,
     "metadata": {},
     "output_type": "execute_result"
    }
   ],
   "source": [
    "type(s) # 중복된값이 들어갈 수 없다."
   ]
  },
  {
   "cell_type": "code",
   "execution_count": 32,
   "id": "2839cda5",
   "metadata": {},
   "outputs": [],
   "source": [
    "a = {3,6,5,7,4,1,2,6}\n",
    "b = {9,8,7,6,65,3,2,3,42,5}"
   ]
  },
  {
   "cell_type": "code",
   "execution_count": 33,
   "id": "2ecfaf8a",
   "metadata": {},
   "outputs": [
    {
     "data": {
      "text/plain": [
       "{1, 2, 3, 4, 5, 6, 7, 8, 9, 42, 65}"
      ]
     },
     "execution_count": 33,
     "metadata": {},
     "output_type": "execute_result"
    }
   ],
   "source": [
    "set.union(a,b) # 차집합 ( 중복값 없이 )"
   ]
  },
  {
   "cell_type": "code",
   "execution_count": 34,
   "id": "87190d1d",
   "metadata": {},
   "outputs": [
    {
     "data": {
      "text/plain": [
       "{1, 2, 3, 4, 5, 6, 7, 8, 9, 42, 65}"
      ]
     },
     "execution_count": 34,
     "metadata": {},
     "output_type": "execute_result"
    }
   ],
   "source": [
    "a | b"
   ]
  },
  {
   "cell_type": "code",
   "execution_count": 35,
   "id": "be4815c7",
   "metadata": {},
   "outputs": [
    {
     "data": {
      "text/plain": [
       "{2, 3, 5, 6, 7}"
      ]
     },
     "execution_count": 35,
     "metadata": {},
     "output_type": "execute_result"
    }
   ],
   "source": [
    "a & b # 교집합 ( 중복되는거 끼리 )"
   ]
  },
  {
   "cell_type": "code",
   "execution_count": 37,
   "id": "6f46e58d",
   "metadata": {},
   "outputs": [
    {
     "name": "stdout",
     "output_type": "stream",
     "text": [
      "1\n",
      "2\n",
      "3\n",
      "4\n",
      "5\n",
      "6\n",
      "7\n",
      "8\n",
      "9\n",
      "10\n",
      "11\n",
      "12\n",
      "13\n",
      "14\n",
      "15\n",
      "16\n",
      "17\n",
      "18\n",
      "19\n",
      "20\n",
      "21\n",
      "22\n",
      "23\n",
      "24\n",
      "25\n",
      "26\n",
      "27\n",
      "28\n",
      "29\n",
      "30\n",
      "31\n",
      "32\n",
      "33\n",
      "34\n",
      "35\n",
      "36\n",
      "37\n",
      "38\n",
      "39\n",
      "40\n",
      "41\n",
      "42\n",
      "43\n",
      "44\n",
      "45\n"
     ]
    }
   ],
   "source": [
    "for i in range(1,46):\n",
    "    print(i)"
   ]
  },
  {
   "cell_type": "code",
   "execution_count": 1,
   "id": "bc0e442f",
   "metadata": {},
   "outputs": [],
   "source": [
    "import random"
   ]
  },
  {
   "cell_type": "code",
   "execution_count": 73,
   "id": "595cf2f0",
   "metadata": {},
   "outputs": [
    {
     "name": "stdout",
     "output_type": "stream",
     "text": [
      "17\n",
      "45\n",
      "28\n",
      "33\n",
      "26\n",
      "45\n",
      "{33, 45, 17, 26, 28}\n"
     ]
    }
   ],
   "source": [
    "lotto = set()\n",
    "for i in range(6):\n",
    "    num = random.randint(1, 45)\n",
    "    lotto.add(num)\n",
    "    print(num)\n",
    "print(lotto)"
   ]
  },
  {
   "cell_type": "code",
   "execution_count": 74,
   "id": "0837d827",
   "metadata": {},
   "outputs": [
    {
     "data": {
      "text/plain": [
       "5"
      ]
     },
     "execution_count": 74,
     "metadata": {},
     "output_type": "execute_result"
    }
   ],
   "source": [
    "len(lotto)"
   ]
  },
  {
   "cell_type": "code",
   "execution_count": 4,
   "id": "46ff6442",
   "metadata": {},
   "outputs": [],
   "source": [
    "import random"
   ]
  },
  {
   "cell_type": "code",
   "execution_count": 7,
   "id": "30994a71",
   "metadata": {},
   "outputs": [
    {
     "name": "stdout",
     "output_type": "stream",
     "text": [
      "{11, 45, 15, 20, 24, 25}\n"
     ]
    }
   ],
   "source": [
    "\n",
    "lotto = set()\n",
    "\n",
    "while len(lotto) <= 5:\n",
    "    num = random.randint(1, 45)\n",
    "    lotto.add(num)\n",
    "    \n",
    "print(lotto)"
   ]
  },
  {
   "cell_type": "code",
   "execution_count": null,
   "id": "7e07d55c",
   "metadata": {},
   "outputs": [],
   "source": []
  },
  {
   "cell_type": "code",
   "execution_count": null,
   "id": "adeceb1f",
   "metadata": {},
   "outputs": [],
   "source": []
  },
  {
   "cell_type": "code",
   "execution_count": null,
   "id": "eaa5e300",
   "metadata": {},
   "outputs": [],
   "source": []
  }
 ],
 "metadata": {
  "kernelspec": {
   "display_name": "Python 3 (ipykernel)",
   "language": "python",
   "name": "python3"
  },
  "language_info": {
   "codemirror_mode": {
    "name": "ipython",
    "version": 3
   },
   "file_extension": ".py",
   "mimetype": "text/x-python",
   "name": "python",
   "nbconvert_exporter": "python",
   "pygments_lexer": "ipython3",
   "version": "3.9.6"
  }
 },
 "nbformat": 4,
 "nbformat_minor": 5
}
